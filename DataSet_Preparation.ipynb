{
 "cells": [
  {
   "cell_type": "code",
   "execution_count": 1,
   "id": "032f3f42",
   "metadata": {},
   "outputs": [],
   "source": [
    "import numpy as np\n",
    "import pandas as pd\n",
    "import matplotlib.pyplot as plt\n",
    "import seaborn as sns\n",
    "import os"
   ]
  },
  {
   "cell_type": "code",
   "execution_count": 2,
   "id": "f7ac0197",
   "metadata": {},
   "outputs": [],
   "source": [
    "def filter_email(text):\n",
    "    lines = text.split('\\n')\n",
    "    key_words = ['Message-ID','Date','From','To','Subject',\n",
    "                 'Mime-Version','Content-Type','Content-Transfer-Encoding',\n",
    "                 'X-From','X-To','X-cc','X-bcc','X-Folder','X-Origin','X-FileName']\n",
    "    email=[]\n",
    "    message=\"\"\n",
    "    for line in lines:\n",
    "        count = 0\n",
    "        for key in key_words:\n",
    "            if key in line:\n",
    "                val = line.split(sep=':')\n",
    "                email.append(val)\n",
    "                count+=1\n",
    "                key_words.remove(key)\n",
    "                break\n",
    "        if count==0:\n",
    "            message+=(line+' ')\n",
    "    email.append(['Body',message])\n",
    "    return email"
   ]
  },
  {
   "cell_type": "markdown",
   "id": "78304147",
   "metadata": {},
   "source": [
    "The above function \"filter_email\" takes raw email text as input and splits into different categories and finally appends into list."
   ]
  },
  {
   "cell_type": "code",
   "execution_count": 3,
   "id": "3b12c8de",
   "metadata": {},
   "outputs": [],
   "source": [
    "def filter_cats(text):\n",
    "    cat=[]\n",
    "    lines = text.split('\\n')\n",
    "    for i in range(len(lines) - 1):\n",
    "        line = lines[i].split(sep=',')\n",
    "        if (int(line[0]) == 1):\n",
    "            cat.append(line[0])\n",
    "            cat.append(line[1])\n",
    "            cat.append(line[2])\n",
    "    return cat"
   ]
  },
  {
   "cell_type": "markdown",
   "id": "14cfeabf",
   "metadata": {},
   "source": [
    "The above function \"filter_cats\" takes raw text from .cats file and filters only categories which belong to first top level category (our problem considers only 6 second level  categories) and appends them into list"
   ]
  },
  {
   "cell_type": "code",
   "execution_count": 4,
   "id": "e5f1f436",
   "metadata": {},
   "outputs": [],
   "source": [
    "message=[]\n",
    "for i in range(1,9):\n",
    "    dir = 'C:\\\\Users\\\\ishar\\\\Documents\\\\Projects\\\\Vlabs\\\\enron_with_categories\\\\'\n",
    "    dir+=str(i)+'\\\\'\n",
    "    for file in os.listdir(dir):\n",
    "        key=file\n",
    "        temp=[key]\n",
    "        if file.endswith('.txt'):\n",
    "            with open(os.path.join(dir, file), 'r') as file:\n",
    "                content = file.read()\n",
    "                email = filter_email(content)\n",
    "                key_words = ['Message-ID', 'Date', 'From', 'To', 'Subject',\n",
    "                             'Mime-Version', 'Content-Type', 'Content-Transfer-Encoding',\n",
    "                             'X-From', 'X-To', 'X-cc', 'X-bcc', 'X-Folder', 'X-Origin', 'X-FileName']\n",
    "                while email:\n",
    "                    item = email[0]\n",
    "                    if len(key_words)==0:\n",
    "                        email.pop(0)\n",
    "                        temp.append(item[1])\n",
    "                        break\n",
    "                    else:\n",
    "                        key_item = key_words[0]\n",
    "                        if item[0] == key_item:\n",
    "                            temp.append(item[1])\n",
    "                            email.pop(0)\n",
    "                        else:\n",
    "                            temp.append(' ')\n",
    "                        key_words.pop(0)\n",
    "            cat_path = key.replace('.txt', '.cats')\n",
    "            with open(os.path.join(dir,cat_path),'r') as file:\n",
    "                content = file.read()\n",
    "                cat = filter_cats(content)\n",
    "                for x in cat:\n",
    "                    temp.append(x)\n",
    "            message.append(temp)"
   ]
  },
  {
   "cell_type": "markdown",
   "id": "7d25019c",
   "metadata": {},
   "source": [
    "The above code loops over all 8 folders and takes .txt files and corresponding .cats files, using 2 helper functions, data from email and category is extracted into a list and finally appended into a global list"
   ]
  },
  {
   "cell_type": "code",
   "execution_count": 5,
   "id": "044cb0e7",
   "metadata": {},
   "outputs": [],
   "source": [
    "df = pd.DataFrame(message,columns=['File Name','Message ID','Date','From','To','Subject','Mime-Version',\n",
    "                                  'Content-Type','Content-Transfer-Encoding','X-From','X-To','X-cc','X-bcc','X-Folder',\n",
    "                                  'X-Origin','X-FileName','Body','FirstCat 1','SecondCat 1','Cat Weightage 1',\n",
    "                                  'FirstCat 2','SecondCat 2','Cat Weightage 2','FirstCat 3','SecondCat 3','Cat Weightage 3'])"
   ]
  },
  {
   "cell_type": "markdown",
   "id": "91a69a23",
   "metadata": {},
   "source": [
    "Condsidering the data generated, there are 26 columns and column names are given to each of them"
   ]
  },
  {
   "cell_type": "code",
   "execution_count": 6,
   "id": "c10827d7",
   "metadata": {
    "scrolled": true
   },
   "outputs": [
    {
     "data": {
      "text/html": [
       "<div>\n",
       "<style scoped>\n",
       "    .dataframe tbody tr th:only-of-type {\n",
       "        vertical-align: middle;\n",
       "    }\n",
       "\n",
       "    .dataframe tbody tr th {\n",
       "        vertical-align: top;\n",
       "    }\n",
       "\n",
       "    .dataframe thead th {\n",
       "        text-align: right;\n",
       "    }\n",
       "</style>\n",
       "<table border=\"1\" class=\"dataframe\">\n",
       "  <thead>\n",
       "    <tr style=\"text-align: right;\">\n",
       "      <th></th>\n",
       "      <th>File Name</th>\n",
       "      <th>Message ID</th>\n",
       "      <th>Date</th>\n",
       "      <th>From</th>\n",
       "      <th>To</th>\n",
       "      <th>Subject</th>\n",
       "      <th>Mime-Version</th>\n",
       "      <th>Content-Type</th>\n",
       "      <th>Content-Transfer-Encoding</th>\n",
       "      <th>X-From</th>\n",
       "      <th>...</th>\n",
       "      <th>Body</th>\n",
       "      <th>FirstCat 1</th>\n",
       "      <th>SecondCat 1</th>\n",
       "      <th>Cat Weightage 1</th>\n",
       "      <th>FirstCat 2</th>\n",
       "      <th>SecondCat 2</th>\n",
       "      <th>Cat Weightage 2</th>\n",
       "      <th>FirstCat 3</th>\n",
       "      <th>SecondCat 3</th>\n",
       "      <th>Cat Weightage 3</th>\n",
       "    </tr>\n",
       "  </thead>\n",
       "  <tbody>\n",
       "    <tr>\n",
       "      <th>0</th>\n",
       "      <td>10425.txt</td>\n",
       "      <td>&lt;197504.1075840201539.JavaMail.evans@thyme&gt;</td>\n",
       "      <td>Mon, 18 Oct 1999 01</td>\n",
       "      <td>steven.kean@enron.com</td>\n",
       "      <td>mark.schroeder@enron.com, kenneth.lay@enron.c...</td>\n",
       "      <td>Translation of articles</td>\n",
       "      <td>1.0</td>\n",
       "      <td>text/plain; charset=us-ascii</td>\n",
       "      <td>7bit</td>\n",
       "      <td>Steven J Kean</td>\n",
       "      <td>...</td>\n",
       "      <td>\\tjeff.skilling@enron.com, mark.frevert@enron....</td>\n",
       "      <td>1</td>\n",
       "      <td>1</td>\n",
       "      <td>1</td>\n",
       "      <td>None</td>\n",
       "      <td>None</td>\n",
       "      <td>None</td>\n",
       "      <td>None</td>\n",
       "      <td>None</td>\n",
       "      <td>None</td>\n",
       "    </tr>\n",
       "    <tr>\n",
       "      <th>1</th>\n",
       "      <td>106296.txt</td>\n",
       "      <td>&lt;11991339.1075842536086.JavaMail.evans@thyme&gt;</td>\n",
       "      <td>Mon, 5 Mar 2001 08</td>\n",
       "      <td>drew.fossum@enron.com</td>\n",
       "      <td>darrell.schoolcraft@enron.com</td>\n",
       "      <td>TW Gas Sales</td>\n",
       "      <td>1.0</td>\n",
       "      <td>text/plain; charset=us-ascii</td>\n",
       "      <td>7bit</td>\n",
       "      <td>Drew Fossum</td>\n",
       "      <td>...</td>\n",
       "      <td>Cc: danny.mccarty@enron.com, steven.harris@enr...</td>\n",
       "      <td>1</td>\n",
       "      <td>1</td>\n",
       "      <td>2</td>\n",
       "      <td>None</td>\n",
       "      <td>None</td>\n",
       "      <td>None</td>\n",
       "      <td>None</td>\n",
       "      <td>None</td>\n",
       "      <td>None</td>\n",
       "    </tr>\n",
       "    <tr>\n",
       "      <th>2</th>\n",
       "      <td>106298.txt</td>\n",
       "      <td>&lt;7106753.1075842536132.JavaMail.evans@thyme&gt;</td>\n",
       "      <td>Tue, 6 Mar 2001 00</td>\n",
       "      <td>drew.fossum@enron.com</td>\n",
       "      <td>julia.white@enron.com, steven.january@enron.com</td>\n",
       "      <td>TW Gas Sales</td>\n",
       "      <td>1.0</td>\n",
       "      <td>text/plain; charset=us-ascii</td>\n",
       "      <td>7bit</td>\n",
       "      <td>Drew Fossum</td>\n",
       "      <td>...</td>\n",
       "      <td>Cc: darrell.schoolcraft@enron.com Bcc: darrell...</td>\n",
       "      <td>1</td>\n",
       "      <td>1</td>\n",
       "      <td>1</td>\n",
       "      <td>1</td>\n",
       "      <td>6</td>\n",
       "      <td>1</td>\n",
       "      <td>None</td>\n",
       "      <td>None</td>\n",
       "      <td>None</td>\n",
       "    </tr>\n",
       "    <tr>\n",
       "      <th>3</th>\n",
       "      <td>106588.txt</td>\n",
       "      <td>&lt;21267718.1075863331587.JavaMail.evans@thyme&gt;</td>\n",
       "      <td>Tue, 6 Mar 2001 11</td>\n",
       "      <td>drew.fossum@enron.com</td>\n",
       "      <td>julia.white@enron.com, steven.january@enron.com</td>\n",
       "      <td>TW Gas Sales</td>\n",
       "      <td>1.0</td>\n",
       "      <td>text/plain; charset=us-ascii</td>\n",
       "      <td>7bit</td>\n",
       "      <td>Drew Fossum</td>\n",
       "      <td>...</td>\n",
       "      <td>Cc: darrell.schoolcraft@enron.com Bcc: darrell...</td>\n",
       "      <td>1</td>\n",
       "      <td>1</td>\n",
       "      <td>2</td>\n",
       "      <td>None</td>\n",
       "      <td>None</td>\n",
       "      <td>None</td>\n",
       "      <td>None</td>\n",
       "      <td>None</td>\n",
       "      <td>None</td>\n",
       "    </tr>\n",
       "    <tr>\n",
       "      <th>4</th>\n",
       "      <td>106590.txt</td>\n",
       "      <td>&lt;20866019.1075863331634.JavaMail.evans@thyme&gt;</td>\n",
       "      <td>Mon, 5 Mar 2001 19</td>\n",
       "      <td>drew.fossum@enron.com</td>\n",
       "      <td>darrell.schoolcraft@enron.com</td>\n",
       "      <td>TW Gas Sales</td>\n",
       "      <td>1.0</td>\n",
       "      <td>text/plain; charset=us-ascii</td>\n",
       "      <td>7bit</td>\n",
       "      <td>Drew Fossum</td>\n",
       "      <td>...</td>\n",
       "      <td>Cc: danny.mccarty@enron.com, steven.harris@enr...</td>\n",
       "      <td>1</td>\n",
       "      <td>1</td>\n",
       "      <td>1</td>\n",
       "      <td>None</td>\n",
       "      <td>None</td>\n",
       "      <td>None</td>\n",
       "      <td>None</td>\n",
       "      <td>None</td>\n",
       "      <td>None</td>\n",
       "    </tr>\n",
       "  </tbody>\n",
       "</table>\n",
       "<p>5 rows × 26 columns</p>\n",
       "</div>"
      ],
      "text/plain": [
       "    File Name                                      Message ID  \\\n",
       "0   10425.txt     <197504.1075840201539.JavaMail.evans@thyme>   \n",
       "1  106296.txt   <11991339.1075842536086.JavaMail.evans@thyme>   \n",
       "2  106298.txt    <7106753.1075842536132.JavaMail.evans@thyme>   \n",
       "3  106588.txt   <21267718.1075863331587.JavaMail.evans@thyme>   \n",
       "4  106590.txt   <20866019.1075863331634.JavaMail.evans@thyme>   \n",
       "\n",
       "                   Date                    From  \\\n",
       "0   Mon, 18 Oct 1999 01   steven.kean@enron.com   \n",
       "1    Mon, 5 Mar 2001 08   drew.fossum@enron.com   \n",
       "2    Tue, 6 Mar 2001 00   drew.fossum@enron.com   \n",
       "3    Tue, 6 Mar 2001 11   drew.fossum@enron.com   \n",
       "4    Mon, 5 Mar 2001 19   drew.fossum@enron.com   \n",
       "\n",
       "                                                  To  \\\n",
       "0   mark.schroeder@enron.com, kenneth.lay@enron.c...   \n",
       "1                      darrell.schoolcraft@enron.com   \n",
       "2    julia.white@enron.com, steven.january@enron.com   \n",
       "3    julia.white@enron.com, steven.january@enron.com   \n",
       "4                      darrell.schoolcraft@enron.com   \n",
       "\n",
       "                    Subject Mime-Version                   Content-Type  \\\n",
       "0   Translation of articles          1.0   text/plain; charset=us-ascii   \n",
       "1              TW Gas Sales          1.0   text/plain; charset=us-ascii   \n",
       "2              TW Gas Sales          1.0   text/plain; charset=us-ascii   \n",
       "3              TW Gas Sales          1.0   text/plain; charset=us-ascii   \n",
       "4              TW Gas Sales          1.0   text/plain; charset=us-ascii   \n",
       "\n",
       "  Content-Transfer-Encoding          X-From  ...  \\\n",
       "0                      7bit   Steven J Kean  ...   \n",
       "1                      7bit     Drew Fossum  ...   \n",
       "2                      7bit     Drew Fossum  ...   \n",
       "3                      7bit     Drew Fossum  ...   \n",
       "4                      7bit     Drew Fossum  ...   \n",
       "\n",
       "                                                Body FirstCat 1 SecondCat 1  \\\n",
       "0  \\tjeff.skilling@enron.com, mark.frevert@enron....          1           1   \n",
       "1  Cc: danny.mccarty@enron.com, steven.harris@enr...          1           1   \n",
       "2  Cc: darrell.schoolcraft@enron.com Bcc: darrell...          1           1   \n",
       "3  Cc: darrell.schoolcraft@enron.com Bcc: darrell...          1           1   \n",
       "4  Cc: danny.mccarty@enron.com, steven.harris@enr...          1           1   \n",
       "\n",
       "  Cat Weightage 1 FirstCat 2 SecondCat 2 Cat Weightage 2 FirstCat 3  \\\n",
       "0               1       None        None            None       None   \n",
       "1               2       None        None            None       None   \n",
       "2               1          1           6               1       None   \n",
       "3               2       None        None            None       None   \n",
       "4               1       None        None            None       None   \n",
       "\n",
       "  SecondCat 3 Cat Weightage 3  \n",
       "0        None            None  \n",
       "1        None            None  \n",
       "2        None            None  \n",
       "3        None            None  \n",
       "4        None            None  \n",
       "\n",
       "[5 rows x 26 columns]"
      ]
     },
     "execution_count": 6,
     "metadata": {},
     "output_type": "execute_result"
    }
   ],
   "source": [
    "df.head()"
   ]
  },
  {
   "cell_type": "markdown",
   "id": "f9743f21",
   "metadata": {},
   "source": [
    "displaying head of the dataframe generated"
   ]
  },
  {
   "cell_type": "code",
   "execution_count": 7,
   "id": "eb00b664",
   "metadata": {},
   "outputs": [],
   "source": [
    "df.drop(['Message ID','Date','Mime-Version','Content-Type','Content-Transfer-Encoding','X-cc','X-bcc',\n",
    "             'X-Folder','X-Origin','X-FileName','To','X-From','X-To'],axis=1,inplace=True)"
   ]
  },
  {
   "cell_type": "markdown",
   "id": "0a2de88b",
   "metadata": {},
   "source": [
    "dropping unwanted columns from the dataframe"
   ]
  },
  {
   "cell_type": "code",
   "execution_count": 8,
   "id": "a67d74a7",
   "metadata": {
    "scrolled": true
   },
   "outputs": [
    {
     "data": {
      "text/html": [
       "<div>\n",
       "<style scoped>\n",
       "    .dataframe tbody tr th:only-of-type {\n",
       "        vertical-align: middle;\n",
       "    }\n",
       "\n",
       "    .dataframe tbody tr th {\n",
       "        vertical-align: top;\n",
       "    }\n",
       "\n",
       "    .dataframe thead th {\n",
       "        text-align: right;\n",
       "    }\n",
       "</style>\n",
       "<table border=\"1\" class=\"dataframe\">\n",
       "  <thead>\n",
       "    <tr style=\"text-align: right;\">\n",
       "      <th></th>\n",
       "      <th>File Name</th>\n",
       "      <th>From</th>\n",
       "      <th>Subject</th>\n",
       "      <th>Body</th>\n",
       "      <th>FirstCat 1</th>\n",
       "      <th>SecondCat 1</th>\n",
       "      <th>Cat Weightage 1</th>\n",
       "      <th>FirstCat 2</th>\n",
       "      <th>SecondCat 2</th>\n",
       "      <th>Cat Weightage 2</th>\n",
       "      <th>FirstCat 3</th>\n",
       "      <th>SecondCat 3</th>\n",
       "      <th>Cat Weightage 3</th>\n",
       "    </tr>\n",
       "  </thead>\n",
       "  <tbody>\n",
       "    <tr>\n",
       "      <th>0</th>\n",
       "      <td>10425.txt</td>\n",
       "      <td>steven.kean@enron.com</td>\n",
       "      <td>Translation of articles</td>\n",
       "      <td>\\tjeff.skilling@enron.com, mark.frevert@enron....</td>\n",
       "      <td>1</td>\n",
       "      <td>1</td>\n",
       "      <td>1</td>\n",
       "      <td>None</td>\n",
       "      <td>None</td>\n",
       "      <td>None</td>\n",
       "      <td>None</td>\n",
       "      <td>None</td>\n",
       "      <td>None</td>\n",
       "    </tr>\n",
       "    <tr>\n",
       "      <th>1</th>\n",
       "      <td>106296.txt</td>\n",
       "      <td>drew.fossum@enron.com</td>\n",
       "      <td>TW Gas Sales</td>\n",
       "      <td>Cc: danny.mccarty@enron.com, steven.harris@enr...</td>\n",
       "      <td>1</td>\n",
       "      <td>1</td>\n",
       "      <td>2</td>\n",
       "      <td>None</td>\n",
       "      <td>None</td>\n",
       "      <td>None</td>\n",
       "      <td>None</td>\n",
       "      <td>None</td>\n",
       "      <td>None</td>\n",
       "    </tr>\n",
       "  </tbody>\n",
       "</table>\n",
       "</div>"
      ],
      "text/plain": [
       "    File Name                    From                   Subject  \\\n",
       "0   10425.txt   steven.kean@enron.com   Translation of articles   \n",
       "1  106296.txt   drew.fossum@enron.com              TW Gas Sales   \n",
       "\n",
       "                                                Body FirstCat 1 SecondCat 1  \\\n",
       "0  \\tjeff.skilling@enron.com, mark.frevert@enron....          1           1   \n",
       "1  Cc: danny.mccarty@enron.com, steven.harris@enr...          1           1   \n",
       "\n",
       "  Cat Weightage 1 FirstCat 2 SecondCat 2 Cat Weightage 2 FirstCat 3  \\\n",
       "0               1       None        None            None       None   \n",
       "1               2       None        None            None       None   \n",
       "\n",
       "  SecondCat 3 Cat Weightage 3  \n",
       "0        None            None  \n",
       "1        None            None  "
      ]
     },
     "execution_count": 8,
     "metadata": {},
     "output_type": "execute_result"
    }
   ],
   "source": [
    "df.head(2)"
   ]
  },
  {
   "cell_type": "markdown",
   "id": "e6951964",
   "metadata": {},
   "source": [
    "The above dataframe consists of many null values hence modification is done so that which ever row has multiple categories, the categories are popped out and duplicate rows are generated so that single column labelled data is generated"
   ]
  },
  {
   "cell_type": "code",
   "execution_count": 9,
   "id": "488abac5",
   "metadata": {},
   "outputs": [],
   "source": [
    "df_second=df[(df['FirstCat 2']==1) & (df['FirstCat 3']!=1)].copy()\n",
    "df_third = df[(df['FirstCat 2']==1) & (df['FirstCat 3']==1)].copy()\n",
    "\n",
    "df_second_1 = df_second.copy()\n",
    "df_third_1=df_third.copy()\n",
    "df_third_2=df_third.copy()"
   ]
  },
  {
   "cell_type": "markdown",
   "id": "1dee68b2",
   "metadata": {},
   "source": [
    "dataframe copy is done so that changes in new dataframe doesn't alter the parent one"
   ]
  },
  {
   "cell_type": "code",
   "execution_count": 10,
   "id": "d97cce5f",
   "metadata": {},
   "outputs": [],
   "source": [
    "df.drop(['FirstCat 1','Cat Weightage 1', 'FirstCat 2', 'SecondCat 2', 'Cat Weightage 2',\n",
    "       'FirstCat 3', 'SecondCat 3', 'Cat Weightage 3'],axis=1,inplace=True)"
   ]
  },
  {
   "cell_type": "markdown",
   "id": "064f9f87",
   "metadata": {},
   "source": [
    "unwanted columns are removed from parent dataframe"
   ]
  },
  {
   "cell_type": "code",
   "execution_count": 11,
   "id": "977870f0",
   "metadata": {},
   "outputs": [],
   "source": [
    "df_second_1['File Name']+='_1'\n",
    "\n",
    "df_second_1.drop(['FirstCat 1', 'SecondCat 1','Cat Weightage 1', 'FirstCat 2','Cat Weightage 2',\n",
    "       'FirstCat 3', 'SecondCat 3', 'Cat Weightage 3'],axis=1,inplace=True)"
   ]
  },
  {
   "cell_type": "markdown",
   "id": "546ef678",
   "metadata": {},
   "source": [
    "duplicate naming is done and unwanted columns are removed"
   ]
  },
  {
   "cell_type": "code",
   "execution_count": 12,
   "id": "d7acac4b",
   "metadata": {},
   "outputs": [],
   "source": [
    "df_third_1['File Name']+='_1'\n",
    "\n",
    "df_third_1.drop(['FirstCat 1', 'SecondCat 1',\n",
    "       'Cat Weightage 1', 'FirstCat 2', 'Cat Weightage 2',\n",
    "       'FirstCat 3', 'SecondCat 3','Cat Weightage 3'],axis=1,inplace=True)"
   ]
  },
  {
   "cell_type": "markdown",
   "id": "efaa59f6",
   "metadata": {},
   "source": [
    "duplicate naming is done and unwanted columns are removed"
   ]
  },
  {
   "cell_type": "code",
   "execution_count": 13,
   "id": "b7a0a006",
   "metadata": {},
   "outputs": [],
   "source": [
    "df_third_2['File Name']+='_2'\n",
    "\n",
    "df_third_2.drop(['FirstCat 1', 'SecondCat 1','Cat Weightage 1', 'FirstCat 2', 'SecondCat 2', 'Cat Weightage 2',\n",
    "                  'FirstCat 3', 'Cat Weightage 3'],axis=1,inplace=True)"
   ]
  },
  {
   "cell_type": "markdown",
   "id": "3ddbe0d8",
   "metadata": {},
   "source": [
    "duplicate naming is done and unwanted columns are removed"
   ]
  },
  {
   "cell_type": "code",
   "execution_count": 14,
   "id": "81decadb",
   "metadata": {},
   "outputs": [],
   "source": [
    "df=df.rename(columns={'SecondCat 1':'Label'})\n",
    "df_second_1=df_second_1.rename(columns={'SecondCat 2':'Label'})\n",
    "df_third_1=df_third_1.rename(columns={'SecondCat 2':'Label'})\n",
    "df_third_2=df_third_2.rename(columns={'SecondCat 3':'Label'})"
   ]
  },
  {
   "cell_type": "markdown",
   "id": "c1b96537",
   "metadata": {},
   "source": [
    "Category column name is changed to single name \"Label\""
   ]
  },
  {
   "cell_type": "code",
   "execution_count": 15,
   "id": "ac314ee7",
   "metadata": {},
   "outputs": [],
   "source": [
    "df.set_index('File Name',inplace=True)\n",
    "df_second_1.set_index('File Name',inplace=True)\n",
    "df_third_1.set_index('File Name',inplace=True)\n",
    "df_third_2.set_index('File Name',inplace=True)"
   ]
  },
  {
   "cell_type": "markdown",
   "id": "e271e252",
   "metadata": {},
   "source": [
    "File Name is made as the index of dataframe"
   ]
  },
  {
   "cell_type": "code",
   "execution_count": 16,
   "id": "a21c147a",
   "metadata": {},
   "outputs": [],
   "source": [
    "df=pd.concat([df,df_second_1,df_third_1,df_third_2])"
   ]
  },
  {
   "cell_type": "markdown",
   "id": "13b9f695",
   "metadata": {},
   "source": [
    "All duplicate generated dataframes are concatenated to form a single dataframe"
   ]
  },
  {
   "cell_type": "code",
   "execution_count": 17,
   "id": "e2d1b0c5",
   "metadata": {},
   "outputs": [
    {
     "data": {
      "text/html": [
       "<div>\n",
       "<style scoped>\n",
       "    .dataframe tbody tr th:only-of-type {\n",
       "        vertical-align: middle;\n",
       "    }\n",
       "\n",
       "    .dataframe tbody tr th {\n",
       "        vertical-align: top;\n",
       "    }\n",
       "\n",
       "    .dataframe thead th {\n",
       "        text-align: right;\n",
       "    }\n",
       "</style>\n",
       "<table border=\"1\" class=\"dataframe\">\n",
       "  <thead>\n",
       "    <tr style=\"text-align: right;\">\n",
       "      <th></th>\n",
       "      <th>From</th>\n",
       "      <th>Subject</th>\n",
       "      <th>Body</th>\n",
       "      <th>Label</th>\n",
       "    </tr>\n",
       "    <tr>\n",
       "      <th>File Name</th>\n",
       "      <th></th>\n",
       "      <th></th>\n",
       "      <th></th>\n",
       "      <th></th>\n",
       "    </tr>\n",
       "  </thead>\n",
       "  <tbody>\n",
       "    <tr>\n",
       "      <th>10425.txt</th>\n",
       "      <td>steven.kean@enron.com</td>\n",
       "      <td>Translation of articles</td>\n",
       "      <td>\\tjeff.skilling@enron.com, mark.frevert@enron....</td>\n",
       "      <td>1</td>\n",
       "    </tr>\n",
       "    <tr>\n",
       "      <th>106296.txt</th>\n",
       "      <td>drew.fossum@enron.com</td>\n",
       "      <td>TW Gas Sales</td>\n",
       "      <td>Cc: danny.mccarty@enron.com, steven.harris@enr...</td>\n",
       "      <td>1</td>\n",
       "    </tr>\n",
       "  </tbody>\n",
       "</table>\n",
       "</div>"
      ],
      "text/plain": [
       "                              From                   Subject  \\\n",
       "File Name                                                      \n",
       "10425.txt    steven.kean@enron.com   Translation of articles   \n",
       "106296.txt   drew.fossum@enron.com              TW Gas Sales   \n",
       "\n",
       "                                                         Body Label  \n",
       "File Name                                                            \n",
       "10425.txt   \\tjeff.skilling@enron.com, mark.frevert@enron....     1  \n",
       "106296.txt  Cc: danny.mccarty@enron.com, steven.harris@enr...     1  "
      ]
     },
     "execution_count": 17,
     "metadata": {},
     "output_type": "execute_result"
    }
   ],
   "source": [
    "df.head(2)"
   ]
  },
  {
   "cell_type": "code",
   "execution_count": 18,
   "id": "133a648c",
   "metadata": {},
   "outputs": [],
   "source": [
    "df[df['Body'].str.len()==0]\n",
    "df = df.drop(df[df['Body'].str.len()==0].index)"
   ]
  },
  {
   "cell_type": "markdown",
   "id": "35d2d1b1",
   "metadata": {},
   "source": [
    "checking if any email body is null and removing such rows"
   ]
  },
  {
   "cell_type": "code",
   "execution_count": 19,
   "id": "ee273df4",
   "metadata": {},
   "outputs": [],
   "source": [
    "import re\n",
    "from nltk.corpus import stopwords\n",
    "stop_words = set(stopwords.words('english'))\n",
    "import nltk\n",
    "from nltk.stem import PorterStemmer\n",
    "ps = PorterStemmer()"
   ]
  },
  {
   "cell_type": "code",
   "execution_count": 20,
   "id": "8b802064",
   "metadata": {},
   "outputs": [],
   "source": [
    "def filtered_text(body):\n",
    "    my_list = body.split()\n",
    "    i = 0\n",
    "    while i < len(my_list):\n",
    "        if '@' in my_list[i]:\n",
    "            my_list.pop(i)\n",
    "        else:\n",
    "            i += 1\n",
    "    text = ' '.join(x for x in my_list)\n",
    "    text = text.lower()\n",
    "    replace = ['forwarded','from','subject','steven','said','enron','california']\n",
    "    remove = re.compile(r'\\b(?:%s)\\b'%'|'.join(replace))\n",
    "    text = remove.sub('',text)\n",
    "    text = re.sub(r'[^a-z]',' ',text)\n",
    "    words = text.split()\n",
    "    filtered_words = [word for word in words if word.lower() not in stop_words]\n",
    "    text = ' '.join(x for x in filtered_words)\n",
    "    return text"
   ]
  },
  {
   "cell_type": "markdown",
   "id": "b6b42cd7",
   "metadata": {},
   "source": [
    "The above function takes raw text as input and gives filtered text as output.\n",
    "1) All email accounts if available will be removed\n",
    "2) All text data will be lowered\n",
    "3) common unwanted words will be removed\n",
    "4) Other than alphabets, all other text will be removed\n",
    "5) stopwords will be removed"
   ]
  },
  {
   "cell_type": "code",
   "execution_count": 21,
   "id": "ab4bf946",
   "metadata": {},
   "outputs": [],
   "source": [
    "df['Body'] = df['Body'].apply(filtered_text)\n",
    "df['Label'] = df['Label'].apply(int)"
   ]
  },
  {
   "cell_type": "markdown",
   "id": "48163f2f",
   "metadata": {},
   "source": [
    "The above function is implemented to all cells in body column and Label column contains some float data hence such values are converted to int format"
   ]
  },
  {
   "cell_type": "code",
   "execution_count": 22,
   "id": "685091fa",
   "metadata": {},
   "outputs": [
    {
     "data": {
      "text/html": [
       "<div>\n",
       "<style scoped>\n",
       "    .dataframe tbody tr th:only-of-type {\n",
       "        vertical-align: middle;\n",
       "    }\n",
       "\n",
       "    .dataframe tbody tr th {\n",
       "        vertical-align: top;\n",
       "    }\n",
       "\n",
       "    .dataframe thead th {\n",
       "        text-align: right;\n",
       "    }\n",
       "</style>\n",
       "<table border=\"1\" class=\"dataframe\">\n",
       "  <thead>\n",
       "    <tr style=\"text-align: right;\">\n",
       "      <th></th>\n",
       "      <th>From</th>\n",
       "      <th>Subject</th>\n",
       "      <th>Body</th>\n",
       "      <th>Label</th>\n",
       "    </tr>\n",
       "    <tr>\n",
       "      <th>File Name</th>\n",
       "      <th></th>\n",
       "      <th></th>\n",
       "      <th></th>\n",
       "      <th></th>\n",
       "    </tr>\n",
       "  </thead>\n",
       "  <tbody>\n",
       "    <tr>\n",
       "      <th>10425.txt</th>\n",
       "      <td>steven.kean@enron.com</td>\n",
       "      <td>Translation of articles</td>\n",
       "      <td>j kean hou ees karen j cc translation articles...</td>\n",
       "      <td>1</td>\n",
       "    </tr>\n",
       "    <tr>\n",
       "      <th>106296.txt</th>\n",
       "      <td>drew.fossum@enron.com</td>\n",
       "      <td>TW Gas Sales</td>\n",
       "      <td>cc bcc anticipation potential litigation invol...</td>\n",
       "      <td>1</td>\n",
       "    </tr>\n",
       "    <tr>\n",
       "      <th>106298.txt</th>\n",
       "      <td>drew.fossum@enron.com</td>\n",
       "      <td>TW Gas Sales</td>\n",
       "      <td>cc bcc julia steve questions sent darrell tw c...</td>\n",
       "      <td>1</td>\n",
       "    </tr>\n",
       "    <tr>\n",
       "      <th>106588.txt</th>\n",
       "      <td>drew.fossum@enron.com</td>\n",
       "      <td>TW Gas Sales</td>\n",
       "      <td>cc bcc julia steve questions sent darrell tw c...</td>\n",
       "      <td>1</td>\n",
       "    </tr>\n",
       "    <tr>\n",
       "      <th>106590.txt</th>\n",
       "      <td>drew.fossum@enron.com</td>\n",
       "      <td>TW Gas Sales</td>\n",
       "      <td>cc bcc anticipation potential litigation invol...</td>\n",
       "      <td>1</td>\n",
       "    </tr>\n",
       "  </tbody>\n",
       "</table>\n",
       "</div>"
      ],
      "text/plain": [
       "                              From                   Subject  \\\n",
       "File Name                                                      \n",
       "10425.txt    steven.kean@enron.com   Translation of articles   \n",
       "106296.txt   drew.fossum@enron.com              TW Gas Sales   \n",
       "106298.txt   drew.fossum@enron.com              TW Gas Sales   \n",
       "106588.txt   drew.fossum@enron.com              TW Gas Sales   \n",
       "106590.txt   drew.fossum@enron.com              TW Gas Sales   \n",
       "\n",
       "                                                         Body  Label  \n",
       "File Name                                                             \n",
       "10425.txt   j kean hou ees karen j cc translation articles...      1  \n",
       "106296.txt  cc bcc anticipation potential litigation invol...      1  \n",
       "106298.txt  cc bcc julia steve questions sent darrell tw c...      1  \n",
       "106588.txt  cc bcc julia steve questions sent darrell tw c...      1  \n",
       "106590.txt  cc bcc anticipation potential litigation invol...      1  "
      ]
     },
     "execution_count": 22,
     "metadata": {},
     "output_type": "execute_result"
    }
   ],
   "source": [
    "df.head()"
   ]
  },
  {
   "cell_type": "code",
   "execution_count": 23,
   "id": "fde0ae3a",
   "metadata": {},
   "outputs": [],
   "source": [
    "df = df.drop(df[df['Label']==7].index)\n",
    "df = df.drop(df[df['Label']==8].index)"
   ]
  },
  {
   "cell_type": "markdown",
   "id": "f506f261",
   "metadata": {},
   "source": [
    "7 and 8 category data is not needed for our problem hence such rows are removed"
   ]
  },
  {
   "cell_type": "code",
   "execution_count": 24,
   "id": "5ac4b436",
   "metadata": {
    "scrolled": false
   },
   "outputs": [
    {
     "data": {
      "text/html": [
       "<div>\n",
       "<style scoped>\n",
       "    .dataframe tbody tr th:only-of-type {\n",
       "        vertical-align: middle;\n",
       "    }\n",
       "\n",
       "    .dataframe tbody tr th {\n",
       "        vertical-align: top;\n",
       "    }\n",
       "\n",
       "    .dataframe thead th {\n",
       "        text-align: right;\n",
       "    }\n",
       "</style>\n",
       "<table border=\"1\" class=\"dataframe\">\n",
       "  <thead>\n",
       "    <tr style=\"text-align: right;\">\n",
       "      <th></th>\n",
       "      <th>From</th>\n",
       "      <th>Subject</th>\n",
       "      <th>Body</th>\n",
       "      <th>Label</th>\n",
       "    </tr>\n",
       "    <tr>\n",
       "      <th>File Name</th>\n",
       "      <th></th>\n",
       "      <th></th>\n",
       "      <th></th>\n",
       "      <th></th>\n",
       "    </tr>\n",
       "  </thead>\n",
       "  <tbody>\n",
       "    <tr>\n",
       "      <th>173164.txt</th>\n",
       "      <td>steven.kean@enron.com</td>\n",
       "      <td>Task Force conf call -- 9</td>\n",
       "      <td></td>\n",
       "      <td>4</td>\n",
       "    </tr>\n",
       "    <tr>\n",
       "      <th>173240.txt</th>\n",
       "      <td>steven.kean@enron.com</td>\n",
       "      <td>Dinner with Craig Goodman - Cancelled</td>\n",
       "      <td></td>\n",
       "      <td>4</td>\n",
       "    </tr>\n",
       "  </tbody>\n",
       "</table>\n",
       "</div>"
      ],
      "text/plain": [
       "                              From                                  Subject  \\\n",
       "File Name                                                                     \n",
       "173164.txt   steven.kean@enron.com                Task Force conf call -- 9   \n",
       "173240.txt   steven.kean@enron.com    Dinner with Craig Goodman - Cancelled   \n",
       "\n",
       "           Body  Label  \n",
       "File Name               \n",
       "173164.txt           4  \n",
       "173240.txt           4  "
      ]
     },
     "execution_count": 24,
     "metadata": {},
     "output_type": "execute_result"
    }
   ],
   "source": [
    "df[df['Body'].str.len()==0]"
   ]
  },
  {
   "cell_type": "markdown",
   "id": "f2b57d43",
   "metadata": {},
   "source": [
    "If any row which contain null body is removed"
   ]
  },
  {
   "cell_type": "code",
   "execution_count": 25,
   "id": "d2fe7d98",
   "metadata": {},
   "outputs": [],
   "source": [
    "df = df.drop(df[df['Body'].str.len()==0].index)"
   ]
  },
  {
   "cell_type": "code",
   "execution_count": 26,
   "id": "883509bb",
   "metadata": {},
   "outputs": [],
   "source": [
    "tokenized_email = df['Body'].apply(lambda x: x.split())"
   ]
  },
  {
   "cell_type": "code",
   "execution_count": 27,
   "id": "db30797d",
   "metadata": {},
   "outputs": [],
   "source": [
    "tokenized_email = tokenized_email.apply(lambda x: [ps.stem(i) for i in x])\n",
    "\n",
    "tokenized_email = list(tokenized_email)\n",
    "\n",
    "for i in range(len(tokenized_email)):\n",
    "    tokenized_email[i] = ' '.join(x for x in tokenized_email[i])"
   ]
  },
  {
   "cell_type": "markdown",
   "id": "96fab3c2",
   "metadata": {},
   "source": [
    "Stemming is done so that all words are converted to their base stem format."
   ]
  },
  {
   "cell_type": "code",
   "execution_count": 28,
   "id": "8fcf0cf5",
   "metadata": {},
   "outputs": [],
   "source": [
    "def filter(text):\n",
    "    words = text.split()\n",
    "    filtered_words = [word for word in words if len(word)>3]\n",
    "    text = ' '.join(x for x in filtered_words)\n",
    "    return text"
   ]
  },
  {
   "cell_type": "markdown",
   "id": "86e9b9ec",
   "metadata": {},
   "source": [
    "After stemming, some words will be having 1 or 2 alphabets which do not contain any meaning, these words reduce accuracy of prediction. Hence such types of words whose length is less than 4 are removed"
   ]
  },
  {
   "cell_type": "code",
   "execution_count": 29,
   "id": "192cb966",
   "metadata": {},
   "outputs": [],
   "source": [
    "df['Final_Body'] = tokenized_email"
   ]
  },
  {
   "cell_type": "code",
   "execution_count": 30,
   "id": "34553cfe",
   "metadata": {},
   "outputs": [],
   "source": [
    "df['Final_Body']=df['Final_Body'].apply(filter)"
   ]
  },
  {
   "cell_type": "markdown",
   "id": "226a1330",
   "metadata": {},
   "source": [
    "Applying filter function to Final_Body column"
   ]
  },
  {
   "cell_type": "code",
   "execution_count": 31,
   "id": "b1b94581",
   "metadata": {},
   "outputs": [
    {
     "data": {
      "text/html": [
       "<div>\n",
       "<style scoped>\n",
       "    .dataframe tbody tr th:only-of-type {\n",
       "        vertical-align: middle;\n",
       "    }\n",
       "\n",
       "    .dataframe tbody tr th {\n",
       "        vertical-align: top;\n",
       "    }\n",
       "\n",
       "    .dataframe thead th {\n",
       "        text-align: right;\n",
       "    }\n",
       "</style>\n",
       "<table border=\"1\" class=\"dataframe\">\n",
       "  <thead>\n",
       "    <tr style=\"text-align: right;\">\n",
       "      <th></th>\n",
       "      <th>From</th>\n",
       "      <th>Subject</th>\n",
       "      <th>Body</th>\n",
       "      <th>Label</th>\n",
       "      <th>Final_Body</th>\n",
       "    </tr>\n",
       "    <tr>\n",
       "      <th>File Name</th>\n",
       "      <th></th>\n",
       "      <th></th>\n",
       "      <th></th>\n",
       "      <th></th>\n",
       "      <th></th>\n",
       "    </tr>\n",
       "  </thead>\n",
       "  <tbody>\n",
       "    <tr>\n",
       "      <th>10425.txt</th>\n",
       "      <td>steven.kean@enron.com</td>\n",
       "      <td>Translation of articles</td>\n",
       "      <td>j kean hou ees karen j cc translation articles...</td>\n",
       "      <td>1</td>\n",
       "      <td>kean karen translat articl karen denn corp and...</td>\n",
       "    </tr>\n",
       "    <tr>\n",
       "      <th>106296.txt</th>\n",
       "      <td>drew.fossum@enron.com</td>\n",
       "      <td>TW Gas Sales</td>\n",
       "      <td>cc bcc anticipation potential litigation invol...</td>\n",
       "      <td>1</td>\n",
       "      <td>anticip potenti litig involv oper activ pleas ...</td>\n",
       "    </tr>\n",
       "    <tr>\n",
       "      <th>106298.txt</th>\n",
       "      <td>drew.fossum@enron.com</td>\n",
       "      <td>TW Gas Sales</td>\n",
       "      <td>cc bcc julia steve questions sent darrell tw c...</td>\n",
       "      <td>1</td>\n",
       "      <td>julia steve question sent darrel border line p...</td>\n",
       "    </tr>\n",
       "    <tr>\n",
       "      <th>106588.txt</th>\n",
       "      <td>drew.fossum@enron.com</td>\n",
       "      <td>TW Gas Sales</td>\n",
       "      <td>cc bcc julia steve questions sent darrell tw c...</td>\n",
       "      <td>1</td>\n",
       "      <td>julia steve question sent darrel border line p...</td>\n",
       "    </tr>\n",
       "    <tr>\n",
       "      <th>106590.txt</th>\n",
       "      <td>drew.fossum@enron.com</td>\n",
       "      <td>TW Gas Sales</td>\n",
       "      <td>cc bcc anticipation potential litigation invol...</td>\n",
       "      <td>1</td>\n",
       "      <td>anticip potenti litig involv oper activ pleas ...</td>\n",
       "    </tr>\n",
       "  </tbody>\n",
       "</table>\n",
       "</div>"
      ],
      "text/plain": [
       "                              From                   Subject  \\\n",
       "File Name                                                      \n",
       "10425.txt    steven.kean@enron.com   Translation of articles   \n",
       "106296.txt   drew.fossum@enron.com              TW Gas Sales   \n",
       "106298.txt   drew.fossum@enron.com              TW Gas Sales   \n",
       "106588.txt   drew.fossum@enron.com              TW Gas Sales   \n",
       "106590.txt   drew.fossum@enron.com              TW Gas Sales   \n",
       "\n",
       "                                                         Body  Label  \\\n",
       "File Name                                                              \n",
       "10425.txt   j kean hou ees karen j cc translation articles...      1   \n",
       "106296.txt  cc bcc anticipation potential litigation invol...      1   \n",
       "106298.txt  cc bcc julia steve questions sent darrell tw c...      1   \n",
       "106588.txt  cc bcc julia steve questions sent darrell tw c...      1   \n",
       "106590.txt  cc bcc anticipation potential litigation invol...      1   \n",
       "\n",
       "                                                   Final_Body  \n",
       "File Name                                                      \n",
       "10425.txt   kean karen translat articl karen denn corp and...  \n",
       "106296.txt  anticip potenti litig involv oper activ pleas ...  \n",
       "106298.txt  julia steve question sent darrel border line p...  \n",
       "106588.txt  julia steve question sent darrel border line p...  \n",
       "106590.txt  anticip potenti litig involv oper activ pleas ...  "
      ]
     },
     "execution_count": 31,
     "metadata": {},
     "output_type": "execute_result"
    }
   ],
   "source": [
    "df.head()"
   ]
  },
  {
   "cell_type": "code",
   "execution_count": 32,
   "id": "eac98d66",
   "metadata": {
    "scrolled": true
   },
   "outputs": [
    {
     "data": {
      "text/html": [
       "<div>\n",
       "<style scoped>\n",
       "    .dataframe tbody tr th:only-of-type {\n",
       "        vertical-align: middle;\n",
       "    }\n",
       "\n",
       "    .dataframe tbody tr th {\n",
       "        vertical-align: top;\n",
       "    }\n",
       "\n",
       "    .dataframe thead th {\n",
       "        text-align: right;\n",
       "    }\n",
       "</style>\n",
       "<table border=\"1\" class=\"dataframe\">\n",
       "  <thead>\n",
       "    <tr style=\"text-align: right;\">\n",
       "      <th></th>\n",
       "      <th>From</th>\n",
       "      <th>Subject</th>\n",
       "      <th>Body</th>\n",
       "      <th>Label</th>\n",
       "      <th>Final_Body</th>\n",
       "    </tr>\n",
       "    <tr>\n",
       "      <th>File Name</th>\n",
       "      <th></th>\n",
       "      <th></th>\n",
       "      <th></th>\n",
       "      <th></th>\n",
       "      <th></th>\n",
       "    </tr>\n",
       "  </thead>\n",
       "  <tbody>\n",
       "    <tr>\n",
       "      <th>162684.txt</th>\n",
       "      <td>m..taylor@enron.com</td>\n",
       "      <td>Dinner w/Prof. Frank Wolak &amp; Vince Kaminski</td>\n",
       "      <td>tel</td>\n",
       "      <td>4</td>\n",
       "      <td></td>\n",
       "    </tr>\n",
       "    <tr>\n",
       "      <th>177850.txt</th>\n",
       "      <td>steven.kean@enron.com</td>\n",
       "      <td>Re</td>\n",
       "      <td>eb c ext</td>\n",
       "      <td>4</td>\n",
       "      <td></td>\n",
       "    </tr>\n",
       "  </tbody>\n",
       "</table>\n",
       "</div>"
      ],
      "text/plain": [
       "                              From  \\\n",
       "File Name                            \n",
       "162684.txt     m..taylor@enron.com   \n",
       "177850.txt   steven.kean@enron.com   \n",
       "\n",
       "                                                 Subject      Body  Label  \\\n",
       "File Name                                                                   \n",
       "162684.txt   Dinner w/Prof. Frank Wolak & Vince Kaminski       tel      4   \n",
       "177850.txt                                            Re  eb c ext      4   \n",
       "\n",
       "           Final_Body  \n",
       "File Name              \n",
       "162684.txt             \n",
       "177850.txt             "
      ]
     },
     "execution_count": 32,
     "metadata": {},
     "output_type": "execute_result"
    }
   ],
   "source": [
    "df[df['Final_Body'].str.len()==0]"
   ]
  },
  {
   "cell_type": "code",
   "execution_count": 33,
   "id": "539ad4ee",
   "metadata": {},
   "outputs": [],
   "source": [
    "df = df.drop(df[df['Final_Body'].str.len()==0].index)"
   ]
  },
  {
   "cell_type": "markdown",
   "id": "90a5f649",
   "metadata": {},
   "source": [
    "If any cell containing null body data shall be removed"
   ]
  },
  {
   "cell_type": "code",
   "execution_count": 34,
   "id": "10585d28",
   "metadata": {},
   "outputs": [],
   "source": [
    "df.to_csv('Email_Data.csv')"
   ]
  },
  {
   "cell_type": "markdown",
   "id": "60e2a435",
   "metadata": {},
   "source": [
    "Finally the dataframe is ready and is converted to csv file for further analysis"
   ]
  },
  {
   "cell_type": "code",
   "execution_count": null,
   "id": "484ab10a",
   "metadata": {},
   "outputs": [],
   "source": []
  }
 ],
 "metadata": {
  "kernelspec": {
   "display_name": "Python 3 (ipykernel)",
   "language": "python",
   "name": "python3"
  },
  "language_info": {
   "codemirror_mode": {
    "name": "ipython",
    "version": 3
   },
   "file_extension": ".py",
   "mimetype": "text/x-python",
   "name": "python",
   "nbconvert_exporter": "python",
   "pygments_lexer": "ipython3",
   "version": "3.9.13"
  }
 },
 "nbformat": 4,
 "nbformat_minor": 5
}
